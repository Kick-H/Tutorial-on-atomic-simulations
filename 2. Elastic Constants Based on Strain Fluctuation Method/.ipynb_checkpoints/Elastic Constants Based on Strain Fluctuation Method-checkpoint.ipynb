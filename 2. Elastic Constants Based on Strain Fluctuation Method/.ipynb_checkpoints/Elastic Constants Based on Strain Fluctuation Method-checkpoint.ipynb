{
 "cells": [
  {
   "cell_type": "markdown",
   "metadata": {},
   "source": [
    "# Elastic Constants Calculations Based on Strain Fluctuations Method\n",
    "# 1. Introduction\n",
    "- In this example, we calculate the elastic constants of diamond Si at 300 K and zero pressure. Based on the strain fluctuations method [[Parrinello 1982]](https://doi.org/10.1063/1.443248), one can directly measure the elastic constants from the fluctuations of unit cell vectors in the constant-stress (N, $\\sigma$, T) molecular dynamics simulations:\n",
    "$$\n",
    "C_{ijkl}^{-1} = \\frac{V}{k_{B}T}\\left\\langle\\epsilon_{ij}\\epsilon_{kl}\\right\\rangle-\\left\\langle\\epsilon_{ij}\\right\\rangle\\left\\langle\\epsilon_{kl}\\right\\rangle,\n",
    "$$\n",
    "where $\\epsilon$ is the unit cell strain, $V$ is the unit cell volume, $T$ is the temperature and $k_{B}$ is the Boltzmann constant. $\\left\\langle\\right\\rangle$ represents the ensemble average and calculated as the the average over a period of time in molecular dynamics simulations. \n",
    "\n",
    "\n",
    "- In this tutorial, we use the stochastic cell rescaling (scr) ensemble [[Bernetti 2020]](https://doi.org/10.1063/5.0020514), which is a first-order barostat that samples the correct volume fluctuations by including a suitable noise term. The scr ensemble has been implemented in GPUMD recently. However, we stress that the strain fluctuation methods **cannot** be performed using **the Berendsen method**, due to the fact that the Berendsen method cannot give the correct volume fluctuations. "
   ]
  },
  {
   "cell_type": "markdown",
   "metadata": {},
   "source": [
    "# 2. Preparing the Inputs\n",
    "- We use a diamond Si consisting of 8000 atoms. \n",
    "\n",
    "\n",
    "- The atomic interactions are described by the minimal Tersoff potential [[Fan 2020]](https://doi.org/10.1088/1361-648X/ab5c5f).\n",
    "\n",
    "## Generate the  [xyz.in](https://gpumd.zheyongfan.org/index.php/The_xyz.in_input_file) file:"
   ]
  },
  {
   "cell_type": "markdown",
   "metadata": {},
   "source": [
    "- The xyz.in file for diamond silicon is contructed by the matlab code create_xyz.m as provided in the same path, which is replicated from the [cohesive_energy tutorial](https://github.com/brucefan1983/GPUMD/tree/master/examples/empirical_potentials/cohesive_energy). Because we need to obtain the fluctuation of lattice angle, we use the triclinic box  instead of orthogonal box here.   "
   ]
  },
  {
   "cell_type": "markdown",
   "metadata": {},
   "source": [
    "## The <code>run.in</code> file:\n",
    "The <code>run.in</code> input file is given below:<br>\n",
    "```\n",
    "potential   potentials/tersoff/Si_Fan_2019.txt 0\n",
    "velocity    300\n",
    "\n",
    "ensemble    npt_scr 300 300 100 0 0 0 0 0 0 2000\n",
    "time_step   1\n",
    "dump_thermo  100         \n",
    "run       1100000\n",
    "```\n",
    " - The first line uses the [potential](https://gpumd.zheyongfan.org/index.php/The_potential_keyword) keyword to define the potential to be used, which is specified in the file [Si_Fan_2019.txt](https://github.com/brucefan1983/GPUMD/blob/master/potentials/tersoff/Si_Fan_2019.txt).\n",
    "\n",
    "\n",
    " - The second line uses the [velocity](https://gpumd.zheyongfan.org/index.php/The_velocity_keyword) keyword and sets the velocities to be initialized with a temperature of 300 K. \n",
    "\n",
    "\n",
    "- For the [run](https://gpumd.zheyongfan.org/index.php/The_run_keyword), the constant-stress (N, $\\sigma$, T), specifically, NPT [ensemble](https://gpumd.zheyongfan.org/index.php/The_ensemble_keyword) (the scr method) is used. The temperature is 300 K and the pressures are zero in all the directions. Currently, all the box components will be controlled independently according to the 6 target pressure components. Therefore, we can obtain the fluctuation of all lattice constants including three lattice length and three lattice angles. \n",
    "\n",
    "\n",
    "- The coupling constants are 100 (dimensionless) and 2000 (in the natural unit system adopted by GPUMD) for the thermostat and the barostat, respectively. The [time_step](https://gpumd.zheyongfan.org/index.php/The_time_step_keyword) for integration is 1 fs. There are $1.1\\times 10^6$ steps (1100 ps) for this [run](https://gpumd.zheyongfan.org/index.php/The_run_keyword) and the thermodynamic quantities will be output every 100 steps. The first 100 ps serves as the equilibration stage, and the last 1000 ps serves as the production stage.\n"
   ]
  },
  {
   "cell_type": "markdown",
   "metadata": {},
   "source": [
    "# 3. Results and Discussion\n",
    "Based on the [thermo.out](https://gpumd.zheyongfan.org/index.php/The_thermo.out_output_file) output files, according to the strain fluctuation method defined above, one can obtain the four-order elastic tensor based on fluctuation of corresponding strain compoments, and then obtain the two-order elastic constants under Voigt notation. Specifically, dimaond Si considered here has a cubic symmestry, there are only three elastic constants, i.e., C11, C12, C44. Based on this simple example, one can be easily extended to the structures with other symmetry.  "
   ]
  },
  {
   "cell_type": "code",
   "execution_count": 1,
   "metadata": {},
   "outputs": [
    {
     "name": "stdout",
     "output_type": "stream",
     "text": [
      "[C11, C12, C44] (unit in GPa) of Si estimated by gpumd with npt_scr for 1ns:\n",
      "[153.99128892  65.06584192  77.93512353]\n",
      "With standard error (unit in GPa) of: \n",
      "[1.26584141 1.71782377 0.72885593]\n"
     ]
    }
   ],
   "source": [
    "from thermo.gpumd.data import load_thermo\n",
    "from pylab import *\n",
    "import math\n",
    "\n",
    "def calc_angle(v1, v2):\n",
    "    alpha = math.acos(np.dot(v1, v2)/(np.linalg.norm(v1)*np.linalg.norm(v2)))\n",
    "    return alpha\n",
    "\n",
    "def calc_elstic(strain_ij, strain_kl):\n",
    "    s_ijkl = average(strain_ij*strain_kl)-average(strain_ij)*average(strain_kl)\n",
    "    return s_ijkl\n",
    "\n",
    "def output_elastic_gpumd(path, slice_num):\n",
    "    #Obtain the strain tensor     \n",
    "    thermo = load_thermo(directory=path)\n",
    "    for keys in thermo:\n",
    "        thermo[keys]=thermo[keys][1000:] #Discard the first 100 ps data\n",
    "    Cij = np.zeros((slice_num,3))\n",
    "    for i in range(slice_num): #Split to 10 slices\n",
    "        # print(i)\n",
    "        thermo_slice = dict()\n",
    "        for keys in thermo:\n",
    "            thermo_slice[keys]=thermo[keys][1000*i:1000*(i+1)]\n",
    "        alpha = np.zeros(len(thermo_slice[\"ax\"]))\n",
    "        beta  = np.zeros_like(alpha)\n",
    "        gamma = np.zeros_like(alpha)\n",
    "        for j in range(len(thermo_slice[\"ax\"])):\n",
    "            va = [thermo_slice[\"ax\"][j], thermo_slice[\"ay\"][j], thermo_slice[\"az\"][j]]\n",
    "            vb = [thermo_slice[\"bx\"][j], thermo_slice[\"by\"][j], thermo_slice[\"bz\"][j]]\n",
    "            vc = [thermo_slice[\"cx\"][j], thermo_slice[\"cy\"][j], thermo_slice[\"cz\"][j]]\n",
    "            alpha[j] = calc_angle(vb, vc)\n",
    "            beta[j]  = calc_angle(va, vc)\n",
    "            gamma[j] = calc_angle(va, vb)\n",
    "           \n",
    "        strain = dict()\n",
    "        strain[\"11\"] = thermo_slice[\"ax\"]/average(thermo_slice[\"ax\"])-1 #xx \n",
    "        strain[\"22\"] = thermo_slice[\"by\"]/average(thermo_slice[\"by\"])-1 #yy\n",
    "        strain[\"33\"] = thermo_slice[\"cz\"]/average(thermo_slice[\"cz\"])-1 #zz\n",
    "        strain[\"23\"] = (alpha-pi/2)/2 #yz\n",
    "        strain[\"13\"] = (beta-pi/2)/2 #xz\n",
    "        strain[\"12\"] = (gamma-pi/2)/2 #xy\n",
    "        \n",
    "        #Calculate the cubic compliance tensor\n",
    "        #S11=S1111=S2222=S3333,S12=S1122=S1133=S2233; S44=S2323=S1313=S1212\n",
    "        V = average(thermo[\"ax\"]*thermo[\"by\"]*thermo[\"cz\"]) #volue, unit in angstrom^{3}\n",
    "        T = 300 #temperature, unit in K\n",
    "        kB = 1.38064852 #unit in e-23 J/K\n",
    "        scale = 100/(T*kB)*V #unit in GPa^{-1}, scale=V/(KB*T)\n",
    "        S1111 = scale*calc_elstic(strain[\"11\"], strain[\"11\"])\n",
    "        S2222 = scale*calc_elstic(strain[\"22\"], strain[\"22\"])\n",
    "        S3333 = scale*calc_elstic(strain[\"33\"], strain[\"33\"])\n",
    "        S1122 = scale*calc_elstic(strain[\"11\"], strain[\"22\"])\n",
    "        S1133 = scale*calc_elstic(strain[\"11\"], strain[\"33\"])\n",
    "        S2233 = scale*calc_elstic(strain[\"22\"], strain[\"33\"])\n",
    "        S2323 = scale*calc_elstic(strain[\"23\"], strain[\"23\"])\n",
    "        S1313 = scale*calc_elstic(strain[\"13\"], strain[\"13\"])\n",
    "        S1212  = scale*calc_elstic(strain[\"12\"], strain[\"12\"])\n",
    "        \n",
    "        # All the below value should be very close to zero\n",
    "        S1123 = scale*calc_elstic(strain[\"11\"], strain[\"23\"])\n",
    "        S1113 = scale*calc_elstic(strain[\"11\"], strain[\"13\"])\n",
    "        S1112 = scale*calc_elstic(strain[\"11\"], strain[\"12\"])\n",
    "        \n",
    "        # Convert Sijkl to  Spq \n",
    "        # NOTED that the Spq = Sijkl when p q = 1, 2, 3 BUT Spq = 4*Sijkl when p q = 4, 5, 6.\n",
    "        S11 = (S1111+S2222+S3333)/3\n",
    "        S12 = (S1122+S1133+S2233)/3\n",
    "        S44 = 4*(S2323+S1313+S1212)/3\n",
    "        Spq = np.array([[S11, S12, S12,   0,   0,   0], \n",
    "                        [S12, S11, S12,   0,   0,   0],\n",
    "                        [S12, S12, S11,   0,   0,   0],\n",
    "                        [0,     0,   0, S44,   0,   0],\n",
    "                        [0,     0,   0,   0, S44,   0],\n",
    "                        [0,     0,   0,   0,   0, S44]])\n",
    "        \n",
    "        # Convert Spq to Cpq and \n",
    "        Cpq = np.linalg.inv(Spq)\n",
    "        C11 = Cpq[1,1]\n",
    "        C12 = Cpq[1,2]\n",
    "        C44 = Cpq[4,4]\n",
    "        # print(np.array([C11, C12, C44]))\n",
    "        Cij[i] = np.array([C11, C12, C44])\n",
    "    return Cij\n",
    "\n",
    "def calc_ste(array): # calculate the standard error\n",
    "    ste = np.zeros(3)\n",
    "    for i in range(array.shape[1]):\n",
    "        ste[i] = sqrt(mean(abs(array[:,i] - array[:,i].mean())**2))/len(array[:,i])\n",
    "    return ste\n",
    "        \n",
    "\n",
    "Cij_Si_gpumd_1ns = output_elastic_gpumd(\"./\", 10)\n",
    "print(\"[C11, C12, C44] (unit in GPa) of Si estimated by gpumd with npt_scr for 1ns:\")\n",
    "print(np.average(Cij_Si_gpumd_1ns, axis=0))\n",
    "print(\"With standard error (unit in GPa) of: \")\n",
    "print(calc_ste(Cij_Si_gpumd_1ns))"
   ]
  },
  {
   "cell_type": "markdown",
   "metadata": {},
   "source": [
    "- Noted that we evenly divide the 1 ns simulation to ten independent simulations of 100 ps. Based on each independent simulation, we can obtain three elastic constants, and the final elastic constants is obtained averaging on ten simulations. We also compute the corresponding standard deviation.\n",
    "\n",
    "\n",
    "- According to the [cohesive_energy tutorial](https://github.com/brucefan1983/GPUMD/tree/master/examples/empirical_potentials/cohesive_energy), one can also straightly calculate the elastic constants at 0 K based on stress-strain relationship by deforming the box with small strain. The elastic constants at 0 K are calculated as C11 = 148.686 Gpa, C12 = 65.5985 GPa ,C44 = 74.9417 GPa, which is in good agreement with our result obtained from strain fluctuation method at 300 K. \n",
    "\n",
    "\n",
    "- Rather than the case at finite temperature, the strain fluctuation method can also been extended to the case under pressure loading. Combined with the Born stability criteria [[Born 1954]](https://en.wikipedia.org/wiki/Dynamical_Theory_of_Crystal_Lattices), strain fluctuation method is a powerful method to investigate the mechanical stability under pressure loading. \n"
   ]
  },
  {
   "cell_type": "markdown",
   "metadata": {},
   "source": [
    "# 4. References\n",
    "- [Parrinello 1982] M. Parrinello and A. Rahman. [Strain fluctuations and elastic constants](https://doi.org/10.1063/1.443248), J. Chem. Phys. **76**, 2662 (1982).\n",
    "- [Bernetti 2020] Mattia Bernetti and  Giovanni Bussia, [Pressure control using stochastic cell rescaling](https://doi.org/10.1063/5.0020514), J. Chem. Phys. **153**, 114107 (2020).\n",
    "- [Fan 2020] Zheyong Fan, Yanzhou Wang, Xiaokun Gu, Ping Qian, Yanjing Su, and Tapio Ala-Nissila, [A minimal Tersoff potential for diamond silicon with improved descriptions of elastic and phonon transport properties](https://doi.org/10.1088/1361-648X/ab5c5f), J. Phys.: Condens. Matter 32 135901 (2020).\n",
    "- [Born 1954] M. Born, K. Huang, Dynamical Theory of Crystal Lattices, Clarendon Press, 1954.\n",
    "\n"
   ]
  }
 ],
 "metadata": {
  "kernelspec": {
   "display_name": "Python 3",
   "language": "python",
   "name": "python3"
  },
  "language_info": {
   "codemirror_mode": {
    "name": "ipython",
    "version": 3
   },
   "file_extension": ".py",
   "mimetype": "text/x-python",
   "name": "python",
   "nbconvert_exporter": "python",
   "pygments_lexer": "ipython3",
   "version": "3.8.8"
  }
 },
 "nbformat": 4,
 "nbformat_minor": 2
}
