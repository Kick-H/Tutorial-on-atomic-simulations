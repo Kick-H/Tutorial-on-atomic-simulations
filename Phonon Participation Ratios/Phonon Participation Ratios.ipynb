{
 "cells": [
  {
   "cell_type": "markdown",
   "metadata": {},
   "source": [
    "# Phonon Participation Ratios\n",
    "# 1. Introduction\n",
    "- In this example, we calculate the phonon participation ratios (PPR) of prsitine and defect graphene at 300 K and zero pressure.Based on the atomic phonon density of states (PDOS) [[Dickey 1969]](https://doi.org/10.1103/PhysRev.188.1407), the PPR is calculated to approximately measure the phonon localization with the following form [[Burkov 1996]](https://doi.org/10.1103/PhysRevB.53.14179):\n",
    "$$\n",
    "PPR(\\omega) = \\frac{1}{N} \\frac{(\\sum_{i}PDOS_{i}^{2}(\\omega))^{2}}{\\sum_{i}PDOS_{i}^{4}(\\omega)},\n",
    "$$\n",
    "where $PDOS_{i}$ is the atomic PDOS and $N$ s the total number of atoms involved in the calculation. The specific details on the PDOS calculation can be found in our [PDOS tutorial](https://github.com/brucefan1983/GPUMD/blob/master/examples/empirical_potentials/density_of_states/Density%20of%20States.ipynb)."
   ]
  },
  {
   "cell_type": "markdown",
   "metadata": {},
   "source": [
    "# 2. Preparing the Inputs\n",
    "- We use a prsitine graphene consisting of 1008 carbon atoms and a defect graphene consisting of 978 carbon atoms (about 3% atomic vacancy). The atomic interactions are described by the Tersoff potential [[Tersoff 1989]](https://doi.org/10.1103/PhysRevB.39.5566) parameterized by Lindsay *et al.* [[Lindsay 2010]](https://journals.aps.org/prb/abstract/10.1103/PhysRevB.81.205441).\n",
    "\n",
    "## Generate the  [xyz.in](https://gpumd.zheyongfan.org/index.php/The_xyz.in_input_file) file:"
   ]
  },
  {
   "cell_type": "markdown",
   "metadata": {},
   "source": [
    "- The xyz.in files for prsitine graphene and defect graphene are constructed by the python code graphene_construct.py as provided in the same path.\n",
    "- The first few lines of the [xyz.in](https://gpumd.zheyongfan.org/index.php/The_xyz.in_input_file) file are (taking the defect graphene as an example):\n",
    "```\n",
    "978 3 2.1 0 0 1 \n",
    "1 1 0 51.6497550817 51.12 3.35 \n",
    "0   0.614878036 0.710000001 10  12.011  0\n",
    "0   1.844634109 1.420000001 10  12.011  1\n",
    "0   1.844634109 2.840000002 10  12.011  2\n",
    "0   0.614878036 3.549999998 10  12.011  3\n",
    "0   0.614878036 4.969999999 10  12.011  4\n",
    "0   1.844634109 5.679999999 10  12.011  5\n",
    "```\n",
    "\n",
    "- Explanations for the first line:\n",
    "  - The first number states that the number of particles is 978.\n",
    "  - The second number in this line, 3, is good for graphene described by the Tersoff potential because no atom can have more than 3 neighbor atoms at room temperature. Making this number larger only results in more memory usage. If this number is not large enough, GPUMD will give an error message and exit.\n",
    "  - The next number, 2.1, means that the initial cutoff distance for the neighbor list construction is 2.1 A. Here, we only need to consider the first nearest neighbors. Any number larger than the first nearest neighbor distance and smaller than the second nearest neighbor distance is OK here. Note that we will also not update the neighbor list. There is no such need in this problem. \n",
    "  - The remaining three zeros in the first line mean:\n",
    "    - the box is orthogonal;\n",
    "    - the initial velocities are not contained in this file;\n",
    "    - there are one grouping methods defined here.\n",
    "\n",
    " - Explanations for the second line:\n",
    "   - The numbers 1 1 0 mean that the $x$ and $y$ (in-plane) directions are periodic and the $z$ direction is open (free).\n",
    "   - The remaining three numbers are the box lengths in the three directions. The box length in a free direction is chosen based on some convention. This number will only affect the system volume.\n",
    "\n",
    "- Starting from the third line, the numbers in the first column are all 0 here, which means that all the atoms are of type 0 (single atom-type system). The next three columns are the initial coordinates of the atoms. The penultimate column gives the masses of the atoms. The last column gives the group labels of each atom in the defined grouping method.\n",
    "- It is noted that, we give each atom a distinct group label to obtain the corresponding atomic PDOS here. "
   ]
  },
  {
   "cell_type": "markdown",
   "metadata": {},
   "source": [
    "## The <code>run.in</code> file:\n",
    "The <code>run.in</code> input file is given below:<br>\n",
    "```\n",
    "potential       potentials/tersoff/Graphene_Lindsay_2010_modified.txt 0\n",
    "velocity        300\n",
    "\n",
    "ensemble        npt_ber 300 300 0.01 0 0 0 0.0005 \n",
    "time_step       1     \n",
    "dump_thermo     100  \n",
    "run             200000\n",
    "\n",
    "ensemble        nve \n",
    "compute_dos     5 200 400.0 group 0 -1 num_dos_points 300\n",
    "run             200000\n",
    "```\n",
    " - The first line uses the [potential](https://gpumd.zheyongfan.org/index.php/The_potential_keyword) keyword to define the potential to be used, which is specified in the file [Graphene_Lindsay_2010_modified.txt](https://github.com/brucefan1983/GPUMD/blob/master/potentials/tersoff/Graphene_Lindsay_2010_modified.txt).\n",
    "\n",
    " - The second line uses the [velocity](https://gpumd.zheyongfan.org/index.php/The_velocity_keyword) keyword and sets the velocities to be initialized with a temperature of 300 K. \n",
    "\n",
    " - There are two runs:\n",
    "   - The first [run](https://gpumd.zheyongfan.org/index.php/The_run_keyword) serves as the equilibration stage, where the NPT [ensemble](https://gpumd.zheyongfan.org/index.php/The_ensemble_keyword) (the Berendsen method) is used. The temperature is 300 K and the pressures are zero in all the directions. The coupling constants are 0.01 (dimensionless) and 0.0005 (in the natural unit system adopted by GPUMD) for the thermostat and the barostat, respectively. The [time_step](https://gpumd.zheyongfan.org/index.php/The_time_step_keyword) for integration is 1 fs. There are $2\\times 10^5$ steps (200 ps) for this [run](https://gpumd.zheyongfan.org/index.php/The_run_keyword) and the thermodynamic quantities will be output every 1000 steps. \n",
    "   - The second [run](https://gpumd.zheyongfan.org/index.php/The_run_keyword) serves as the production [run](https://gpumd.zheyongfan.org/index.php/The_run_keyword), where the NVE [ensemble](https://gpumd.zheyongfan.org/index.php/The_ensemble_keyword) is used. The line with [compute_dos](https://gpumd.zheyongfan.org/index.php/The_compute_dos_keyword) means that velocities will be recorded every 5 steps (5 fs) and 200 VAC data (the maximum correlation time is then about 1 ps) will be calculated. The third parameter in this line is the maximum angular frequency considered, $\\omega_{\\rm max} = 2\\pi\\nu_{\\rm max} =400$ THz, which is large enough for graphene. Here, we use \"group 0 -1\" here to calculate the PDOS for each atom of graphene, and \"num_dos_points 300\" means total 300 points for each atom will be calculated, and therefore, it is expected to obtain the PDOS data with 300 $\\times$ N rows. The production [run](https://gpumd.zheyongfan.org/index.php/The_run_keyword) lasts 200 ps."
   ]
  },
  {
   "cell_type": "markdown",
   "metadata": {},
   "source": [
    "# 3. Results and Discussion\n",
    "### Calculate the PPR\n",
    "Based on the [dos.out](https://gpumd.zheyongfan.org/index.php/The_dos.out_output_file) output files for each atom in prsitine and defect graphene, according to the PPR defined previously, we can obtain their corresponding PPR with the following codes. "
   ]
  },
  {
   "cell_type": "code",
   "execution_count": 1,
   "metadata": {},
   "outputs": [],
   "source": [
    "from pylab import *\n",
    "\n",
    "def ppr_calc(path):\n",
    "    dos_raw = np.loadtxt(path + 'dos.out')\n",
    "    N = int(len(dos_raw)/300) #atom number\n",
    "    dos_collect = np.zeros((300, N))\n",
    "    for i in range(N):\n",
    "        dos_slice = dos_raw[300*i:300*(i+1)] #Phonon DOS for each atom\n",
    "        dos_xyz_slice = np.sqrt(dos_slice[:,1]**2 + dos_slice[:,2]**2 + dos_slice[:,3]**2) #We calculate the total dos\n",
    "        dos_collect[:,i] = dos_xyz_slice\n",
    "\n",
    "    ppr = np.zeros((300,2))\n",
    "    ppr[:,0]=dos_raw[:300][:,0] / (2*np.pi) \n",
    "    for j in range(300):\n",
    "        ppr[j,1] = (sum(dos_collect[j]**2))**2/sum(dos_collect[j]**4)/N\n",
    "    return ppr\n",
    "\n",
    "\n",
    "ppr_defect  = ppr_calc(\"defect_graphene/\")\n",
    "ppr_prsitine = ppr_calc(\"prsitine_graphene/\")"
   ]
  },
  {
   "cell_type": "markdown",
   "metadata": {},
   "source": [
    "## Plot PPR\n"
   ]
  },
  {
   "cell_type": "code",
   "execution_count": 2,
   "metadata": {
    "scrolled": true
   },
   "outputs": [
    {
     "data": {
      "text/plain": [
       "<matplotlib.legend.Legend at 0x154cb187d30>"
      ]
     },
     "execution_count": 2,
     "metadata": {},
     "output_type": "execute_result"
    },
    {
     "data": {
      "image/png": "[encoded data removed]",
      "text/plain": [
       "<Figure size 576x360 with 1 Axes>"
      ]
     },
     "metadata": {
      "needs_background": "light"
     },
     "output_type": "display_data"
    }
   ],
   "source": [
    "aw = 2\n",
    "fs = 16\n",
    "font = {'size'   : fs}\n",
    "matplotlib.rc('font', **font)\n",
    "matplotlib.rc('axes' , linewidth=aw)\n",
    "\n",
    "def set_fig_properties(ax_list):\n",
    "    tl = 6\n",
    "    tw = 1.5\n",
    "    tlm = 3\n",
    "    \n",
    "    for ax in ax_list:\n",
    "        ax.tick_params(which='major', length=tl, width=tw)\n",
    "        ax.tick_params(which='minor', length=tlm, width=tw)\n",
    "        ax.tick_params(which='both', axis='both', direction='in', right=True, top=True)\n",
    "      \n",
    "figure(figsize=(8, 5))\n",
    "set_fig_properties([gca()])\n",
    "plot(ppr_prsitine[:,0], ppr_prsitine[:,1], \n",
    "     color='C1', \n",
    "     marker=\"o\", \n",
    "     linewidth=0,  \n",
    "     markersize=5, \n",
    "     label='Prsitine Graphene')\n",
    "plot(ppr_defect[:,0], ppr_defect[:,1], \n",
    "     color='C4', \n",
    "     marker=\"o\", \n",
    "     linewidth=0,  \n",
    "     markersize=5, \n",
    "     label='Defect Graphene')\n",
    "xlim([0.0, 60.0])\n",
    "gca().set_xticks(linspace(0,60,7))\n",
    "ylim([-0.05, 1.05])\n",
    "gca().set_yticks(linspace(0,1.0,6))\n",
    "xlabel(r'$\\nu$ (THz)')\n",
    "ylabel(\"PPR\")\n",
    "legend(loc=\"lower center\")\n"
   ]
  },
  {
   "cell_type": "markdown",
   "metadata": {},
   "source": [
    "From the above figure, it can be clearly found that the weakening of the PPR by the defects covered the entire frequency domain, indicating a significant phonon localization effect in defect graphene when compared to the prsitine graphene counterpart."
   ]
  },
  {
   "cell_type": "markdown",
   "metadata": {},
   "source": [
    "# 4. References\n",
    "- [Dickey 1969] J. M. Dickey and A. Paskin, [Computer Simulation of the Lattice Dynamics of Solids](https://doi.org/10.1103/PhysRev.188.1407), Phys. Rev. **188**, 1407 (1969).\n",
    "- [Burkov 1996] Burkov, S. E., B. E. C. Koltenbah, and L. W. Bruch, [Phonon localization in one-dimensional quasiperiodic chains](https://doi.org/10.1103/PhysRevB.53.14179), Phys. Rev. B **53**, 14179 (1996).\n",
    "- [Lindsay 2010] L. Lindsay and D.A. Broido, [Optimized Tersoff and Brenner emperical potential parameters for lattice dynamics and phonon thermal transport in carbon nanotubes and graphene](https://doi.org/10.1103/PhysRevB.39.5566), Phys. Rev. B, **81**, 205441 (2010).\n",
    "- [Tersoff 1989] J. Tersoff, [Modeling solid-state chemistry: Interatomic potentials for multicomponent systems](https://doi.org/10.1103/PhysRevB.39.5566), Phys. Rev. B **39**, 5566(R) (1989)."
   ]
  }
 ],
 "metadata": {
  "kernelspec": {
   "display_name": "Python 3",
   "language": "python",
   "name": "python3"
  },
  "language_info": {
   "codemirror_mode": {
    "name": "ipython",
    "version": 3
   },
   "file_extension": ".py",
   "mimetype": "text/x-python",
   "name": "python",
   "nbconvert_exporter": "python",
   "pygments_lexer": "ipython3",
   "version": "3.8.5"
  }
 },
 "nbformat": 4,
 "nbformat_minor": 2
}
